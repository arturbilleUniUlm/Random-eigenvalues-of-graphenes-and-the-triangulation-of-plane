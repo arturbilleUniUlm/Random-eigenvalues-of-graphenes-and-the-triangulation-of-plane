{
 "cells": [
  {
   "cell_type": "markdown",
   "id": "71494d38-5822-48dc-a1eb-52d23e008798",
   "metadata": {
    "tags": []
   },
   "source": [
    "### Random eigenvalues of graphene and the triangulation of plane\n",
    "In this notebook we verify some of the results presented in our article $\\textit{Random eigenvalues of graphene and the triangulation of plane}$.\n",
    "The reader finds important formulas derived in the mentioned paper followed by their implementation and verification.\n",
    "Notions are the same as in the article.\n",
    "\n",
    "Convergence of infinite expressions, like sums or integrals, is proved in the paper. Here, we their values are computed up to the fifth digit. \n",
    "\n",
    "Information about the article:\n",
    "\n",
    "##### arXiv:\n",
    "\n",
    "##### Authors: \n",
    "- Artur Bille, Ulm University, Germany, artur.bille@uni-ulm.de\n",
    "- Victor Buchstaber, Steklov Mathematical Institute RAN & HSE University, International Laboratory of Algebraic Topology and Its Application, Russia, buchstab@mi-ras.ru\n",
    "- Simon Coste, LPSM - Universite Paris-Cite, France, simon.coste@u-paris.fr\n",
    "- Satoshi Kuriki, The Institute of Statistical Mathematics, Japan, kuriki@ism.ac.jp\n",
    "- Evgeny Spodarev, Ulm University, Germany, evgeny.spodarev@uni-ulm.de"
   ]
  },
  {
   "cell_type": "markdown",
   "id": "ad64fbec-3574-4a53-bdac-bafea12072ba",
   "metadata": {},
   "source": [
    "Needed packages:\n",
    "- numpy,\n",
    "- math,\n",
    "- matplotlib.pyplot\n",
    "\n",
    "Auxiliary or changed functions and constants:\n",
    "- scipy.special.jv: Bessel function of the first kind of real order and complex argument.\n",
    "- scipy.special.iv: Modified Bessel function of the first kind of real order.\n",
    "- scipy.integrate.quad: This method integrates a function of one variable between two points.\n",
    "- factorial(): Define $k!:=\\infty$, if $-k\\in\\mathbb{N}$,\n",
    "- choose_x(): Gives a random value in $[-2.5;2.5]$,\n",
    "- check(): Print argument x, the result of two given functions and the absolute error.\n",
    "- phi: Golden ratio\n"
   ]
  },
  {
   "cell_type": "code",
   "execution_count": 65,
   "id": "fae42667-be57-44f6-8ad7-d5b25c61a6c9",
   "metadata": {
    "jupyter": {
     "source_hidden": true
    },
    "tags": []
   },
   "outputs": [],
   "source": [
    "import numpy as np\n",
    "import math as m\n",
    "import matplotlib.pyplot as plt\n",
    "\n",
    "from scipy.special import jv\n",
    "from scipy.special import iv\n",
    "from scipy.integrate import quad\n",
    "\n",
    "def factorial(k):\n",
    "    if k<0:\n",
    "        return np.inf\n",
    "    else: \n",
    "        return math.factorial(k)\n",
    "    \n",
    "def choose_x():\n",
    "    # Scale and shift factors, i.e., x is randomly chosen in [-shift,scale-shift]\n",
    "    scale = 5\n",
    "    shift = 2.5\n",
    "    return np.random.rand(1)[0]*scale-shift\n",
    "\n",
    "def check(func_lhs,func_rhs):\n",
    "    x = choose_x()\n",
    "    print(\"x =\",x)\n",
    "    res1 = func_lhs(x)\n",
    "    res2 = func_rhs(x)\n",
    "    print(\"Left-hand side: \",res1)\n",
    "    print(\"Right-hand side: \",res2)\n",
    "    print(\"Absolute Error: \",abs(res1-res2))\n",
    "    \n",
    "phi = (1+np.sqrt(5))/2"
   ]
  },
  {
   "cell_type": "markdown",
   "id": "f6fc0c8e",
   "metadata": {},
   "source": [
    "### 2.1 Regular lattices \n",
    "#### Definition 1\n",
    "We call the infinite graph \n",
    "- $\\mathcal{H}$ a $\\textit{hexagonal lattice}$,  if its set of vertices is given by\n",
    "\\begin{align}\\label{eq:V(h)}\n",
    "V(\\mathcal{H}):=\\left\\lbrace \\left(\\sqrt{3} x+\\frac{y\\sqrt{3}}{2},\\frac{3y}{2} +c\\right)^{\\intercal}\\in\\mathbb{R}^2 ~\\middle|~ x,y\\in\\mathbb{Z},  ~c\\in\\lbrace 0,1 \\rbrace \\right \\rbrace,\n",
    "\\end{align}\n",
    "and every vertex is connected with its three nearest neighbours (w.r.t. the Euclidean distance) by an edge;\n",
    "- $\\mathcal{T}$ a $\\textit{triangular lattice}$,  if its set of vertices is given by\n",
    "\\begin{align*}\n",
    "V(\\mathcal{T}):=\\left\\lbrace v\\in V(\\mathcal{H})~\\middle|~ c=0 \\right \\rbrace\n",
    "\\end{align*}\n",
    "and every vertex is connected with its six nearest neighbours (w.r.t. the Euclidean distance) by an edge. \n",
    "- As a modification of $\\mathcal{T}$, add a loop with  weight (?) \n",
    "$3$ to every vertex of $\\mathcal{T}$ and denote the resulting lattice by $\\mathcal{T}^*$. \n",
    "One can easily construct a bijection between the set of closed paths with even length $2k$ on $\\mathcal{H}$ and the set of closed paths with length $k$ on $\\mathcal{T}^*$. "
   ]
  },
  {
   "cell_type": "markdown",
   "id": "3b649a66",
   "metadata": {},
   "source": [
    "### 2.5 Properties of the spectral density of $\\mathcal{H}$"
   ]
  },
  {
   "cell_type": "markdown",
   "id": "46dadca1",
   "metadata": {},
   "source": [
    "#### Theorem 3\n",
    "The random variable $X$ is absolutely continuously distributed with density\n",
    "\\begin{align}\n",
    "f_{X}(x)=\\int_0^{\\infty} tx J_0(tx) J_0(t)^3 d t,\\quad x\\ge 0. \n",
    "\\end{align}\n",
    "#### Proposition 1\n",
    "It holds\n",
    "\\begin{align*}\n",
    "f_{X}(x) =\\begin{cases}\n",
    "\\frac{2\\sqrt{3}x}{\\pi(3+x^2)}{}_2F_1\\left( \n",
    "\\begin{matrix} \n",
    "\\frac{1}{3},\\frac{2}{3} \\\\\n",
    "1\n",
    "\\end{matrix};\n",
    "\\frac{x^2(9-x^2)^2}{(3+x^2)^3} \\right),\\quad &\\text{ if }x\\in [0,3],\\\\\n",
    "0,&\\text{ if }x>3,\n",
    "\\end{cases}\n",
    "\\end{align*}\n",
    "where ${}_2F_1$ is the generalized hypergeometric function."
   ]
  },
  {
   "cell_type": "code",
   "execution_count": 94,
   "id": "1db30231",
   "metadata": {},
   "outputs": [
    {
     "data": {
      "image/png": "[encoded data removed]",
      "text/plain": [
       "<Figure size 432x288 with 1 Axes>"
      ]
     },
     "metadata": {
      "needs_background": "light"
     },
     "output_type": "display_data"
    }
   ],
   "source": [
    "# The integral representation of f_X is numerically expensive to evaluate accurately.\n",
    "# Instead use representation from Proposition 1, which is much faster.\n",
    "def f_X(x):\n",
    "    return np.where((x<0) | (x>3),0,2*np.sqrt(3)*x/np.pi/(3+x**2)*\\\n",
    "                    sc.hyp2f1(1/3,2/3,1,x**2*(9-x**2)**2/(3+x**2)**3))\n",
    "        \n",
    "# Plotting the graph of f_X using Proposition 1\n",
    "x = np.arange(start = 0,stop = 3,step = 0.01)\n",
    "plt.plot(x,f_X(x))\n",
    "plt.ylim(bottom = 0,top=1)\n",
    "plt.xlim(left = 0, right = 4)\n",
    "plt.vlines(x = 1, ymin = 0, ymax = 1, linestyles='dashed')\n",
    "plt.vlines(x = 3, ymin = 0, ymax = f_X(x[-1]), linestyles='dashed')\n",
    "plt.show()"
   ]
  },
  {
   "cell_type": "markdown",
   "id": "a443d8c8",
   "metadata": {},
   "source": [
    "#### Proposition 3\n",
    "For $k\\in\\mathbb{N}_0$, it holds\n",
    "\\begin{align} \\label{eq:mu_H}\n",
    "\\mu_k\\left(\\mathcal{H}\\right) &= \\begin{cases}\n",
    "\\sum\\limits_{k_1+k_2+k_3=k/2}\\binom{k/2}{k_1,k_2,k_3}^2,\\quad &\\text{if }k \\text{ is even},\\\\\n",
    "0,&\\text{if }k \\text{ is odd,}\n",
    "\\end{cases}\\\\\n",
    "\\mu_k\\left(\\mathcal{T}^*\\right) &= \\sum\\limits_{k_1+k_2+k_3=k}\\binom{k}{k_1,k_2,k_3}^2.\n",
    "\\end{align}"
   ]
  },
  {
   "cell_type": "markdown",
   "id": "ec11671c",
   "metadata": {},
   "source": [
    "### 3.3 Auxiliary results for modified Bessel functions\n",
    "For $k\\in\\mathbb{N}_0$, define\n",
    "\\begin{align}\n",
    "a_k:= \\sum_{k_1+k_2+k_3=k}\\binom{k}{k_1,k_2,k_3}^2.\n",
    "\\end{align}\n",
    "\n",
    "Here, in order to compute $a_k$ for large $k$, we use the following recursion \n",
    "\n",
    "\\begin{align}\n",
    "a_{k+1} = \\frac{10k^2+10k+3}{(k+1)^2}a_k-\\frac{9k^2}{(k+1)^2}a_{k-1}, \\quad k>1,\n",
    "\\end{align}\n",
    "where $a_0 = 1$ and $a_1 = 3$. "
   ]
  },
  {
   "cell_type": "code",
   "execution_count": 50,
   "id": "49ad6cb3",
   "metadata": {},
   "outputs": [],
   "source": [
    "def a_k_recursive(k):\n",
    "    a_k_vector = np.zeros(k)\n",
    "    a_k_vector[0] = 1\n",
    "    a_k_vector[1] = 3\n",
    "    for k in range(2,k):\n",
    "        a_k_vector[k] = int(np.round((10*(k-1)**2+10*(k-1)+3)/k**2*a_k_vector[k-1]-9*(k-1)**2/k**2*a_k_vector[k-2]))\n",
    "    return a_k_vector"
   ]
  },
  {
   "cell_type": "markdown",
   "id": "f7a27f86",
   "metadata": {},
   "source": [
    "### Proofs"
   ]
  },
  {
   "cell_type": "markdown",
   "id": "5f37db4f-6f96-4113-8cb8-67f0be554926",
   "metadata": {
    "tags": []
   },
   "source": [
    "#### Proof of Theorem 4\n",
    "##### Even Case:\n",
    "For $x\\in\\mathbb{R}$, it holds\n",
    "\\begin{align}\n",
    "H_1\\left(x^2\\right) &= \\sum_{k=0}^\\infty \\frac{x^{2k}}{(2k)!}r_k = \\cosh(3x)I_0^3(2x),\\\\\n",
    "H_2\\left(x^2\\right) &= \\sum_{k=0}^\\infty \\frac{x^{2k}}{(2k)!}s_k = 2\\cosh(3x)\\sum_{a=1}^\\infty I_{2a}^3(2x),\\\\\n",
    "H_3\\left(x^2\\right) &= \\sum_{k=0}^\\infty \\frac{x^{2k}}{(2k)!}t_k = 2\\sinh(3x)\\sum_{a=0}^\\infty I_{2a+1}^3(2x),\\\\\n",
    "\\end{align}\n",
    "where\n",
    "\\begin{align}\n",
    "r_k &= \\sum_{k_1=0}^k \\sum_{k_2=0}^{k-k_1}\\sum_{k_4=0}^{k-k_1-k_2} \\frac{3^{2k_1}(2k)!}{(k_2!)^2(k_4!)^2((k-k_1-k_2-k_4)!)^2(2k_1)!},\\\\\n",
    "s_k &= 2\\sum_{k_1=0}^k \\sum_{k_2=0}^{k-k_1}\\sum_{k_4=0}^{k-k_1-k_2} \\sum_{n=0}^{k_2-1} \\frac{3^{2k_1}(2k)!}{(2k_1)!n!(2k_2-n)!(k_4-k_2+n)!(k_4+k_2-n)!(k-k_1-2k_2-k_4+n)!(k-k_1-k_4-n)!},\\\\\n",
    "t_k &= 2\\sum_{k_1=0}^{k-1} \\sum_{k_2=0}^{k-k_1-1}\\sum_{k_4=0}^{k-k_1-k_2-1} \\sum_{n=0}^{k_2} \\frac{3^{2k_1+1}(2k)!}{(2k_1+1)!n!(2k_2-n+1)!(k_4-k_2+n)!(k_4+1+k_2-n)!(k-k_1-2k_2-k_4-2+n)!(k-k_1-k_4-1-n)!}.\n",
    "\\end{align}"
   ]
  },
  {
   "cell_type": "code",
   "execution_count": 13,
   "id": "a64fbc2c-d3a9-4ae0-a0c7-64e1272221d9",
   "metadata": {
    "jupyter": {
     "source_hidden": true
    },
    "tags": []
   },
   "outputs": [
    {
     "name": "stdout",
     "output_type": "stream",
     "text": [
      "x = -0.06112320806520444\n",
      "Left-hand side:  1.0283098349795767\n",
      "Right-hand side:  1.0283098293959383\n",
      "Absolute Error:  5.583638440498362e-09\n"
     ]
    }
   ],
   "source": [
    "def H1_short(x):\n",
    "    return np.cosh(3*x)*sc.iv(0,2*x)**3\n",
    "\n",
    "def H1_long(x):\n",
    "    eps = 10**(-5)\n",
    "    result = 0\n",
    "    boo = True\n",
    "    k = 0\n",
    "    while boo:\n",
    "        summand = 0\n",
    "        for k1 in range(k+1):\n",
    "            for k2 in range(k-k1+1):\n",
    "                for k4 in range(k-k1-k2+1):\n",
    "                    summand += 3**(2*k1)*x**(2*k)/factorial(k2)**2/factorial(k4)**2/factorial(k-k1-k2-k4)**2\\\n",
    "                    /factorial(2*k1)\n",
    "        if summand < eps:\n",
    "            boo = False\n",
    "        k +=1\n",
    "        result += summand\n",
    "    return result\n",
    "\n",
    "def H2_short(x):\n",
    "    eps = 10**(-5)\n",
    "    result = 0\n",
    "    boo = True\n",
    "    a = 1\n",
    "    while boo:\n",
    "        summand = sc.iv(2*a,2*x)**3\n",
    "        if summand < eps:\n",
    "            boo = False\n",
    "        result += summand\n",
    "        a += 1\n",
    "    return result*2*np.cosh(3*x)\n",
    "\n",
    "def H2_long(x):\n",
    "    eps = 10**(-5)\n",
    "    result = 0\n",
    "    boo = True\n",
    "    k = 0\n",
    "    while boo:\n",
    "        summand = 0\n",
    "        for k1 in range(k+1):\n",
    "            for k2 in range(k-k1+1):\n",
    "                for k4 in range(k-k1-k2+1):\n",
    "                    for n in range(k2):\n",
    "                        summand += 2*3**(2*k1)*x**(2*k)/factorial(2*k1)/factorial(n)/factorial(2*k2-n)\\\n",
    "                        /factorial(k4-k2+n)/factorial(k4+k2-n)/factorial(k-k1-2*k2-k4+n)/factorial(k-k1-k4-n)\n",
    "        if summand < eps and summand > 0:\n",
    "            boo = False\n",
    "        #print(summand)\n",
    "        result += summand\n",
    "        k += 1\n",
    "    return result\n",
    "\n",
    "def H3_short(x):\n",
    "    eps = 10**(-5)\n",
    "    result = 0\n",
    "    boo = True\n",
    "    a = 0\n",
    "    while boo:\n",
    "        summand = sc.iv(2*a+1,2*x)**3\n",
    "        if abs(summand) < eps and abs(summand) > 0:\n",
    "            boo = False\n",
    "        result += summand\n",
    "        a += 1\n",
    "    return result*2*np.sinh(3*x)\n",
    "\n",
    "def H3_long(x):\n",
    "    eps = 10**(-5)\n",
    "    result = 0\n",
    "    boo = True\n",
    "    k = 0\n",
    "    while boo:\n",
    "        summand = 0\n",
    "        for k1 in range(k):\n",
    "            for k2 in range(k-k1):\n",
    "                for k4 in range(k-k1-k2):\n",
    "                    for n in range(k2+1):\n",
    "                        summand += 2*3**(2*k1+1)*x**(2*k)/factorial(2*k1+1)/factorial(n)/factorial(2*k2-n+1)\\\n",
    "                        /factorial(k4-k2+n)/factorial(k4+1+k2-n)/factorial(k-k1-2*k2-k4-2+n)/factorial(k-k1-k4-1-n)\n",
    "        if summand < eps and summand > 0:\n",
    "            boo = False\n",
    "        result += summand\n",
    "        k += 1\n",
    "    return result\n",
    "\n",
    "x = choose_x()\n",
    "check(H1_short,H1_long,x)"
   ]
  },
  {
   "cell_type": "markdown",
   "id": "b17b5fa1",
   "metadata": {},
   "source": [
    "It holds\n",
    "\\begin{align*}\n",
    "H(x^2) := \\sum_{k=0}^\\infty \\frac{x^{2k}}{(2k)!}a_{2k} = H_1\\left(x^2\\right)+H_2\\left(x^2\\right)+H_3\\left(x^2\\right),\n",
    "\\end{align*}"
   ]
  },
  {
   "cell_type": "code",
   "execution_count": 53,
   "id": "b5c1913f",
   "metadata": {},
   "outputs": [
    {
     "name": "stdout",
     "output_type": "stream",
     "text": [
      "x = 0.24659142040726723\n",
      "Left-hand side:  1.5662489707840002\n",
      "Right-hand side:  1.566248994618216\n",
      "Absolute Error:  2.3834215934215308e-08\n"
     ]
    }
   ],
   "source": [
    "def lhs(x):\n",
    "    a_k_vector = a_k_recursive(10)\n",
    "    result = 0\n",
    "    eps = 10**(-5)\n",
    "    k = 0\n",
    "    boo = True\n",
    "    while boo:\n",
    "        if 2*k >= a_k_vector.shape[0]-1:\n",
    "            a_k_vector = a_k_recursive(2*k+5)\n",
    "        summand = x**(2*k)/factorial(2*k)*a_k_vector[2*k]\n",
    "        if summand < eps:\n",
    "            boo = False\n",
    "        result += summand\n",
    "        k +=1\n",
    "    return result\n",
    "        \n",
    "def rhs(x):\n",
    "    return H1_short(x)+H2_short(x)+H3_short(x)\n",
    "\n",
    "\n",
    "check(lhs,rhs)"
   ]
  },
  {
   "cell_type": "markdown",
   "id": "c185429c",
   "metadata": {},
   "source": [
    "##### Odd Case:\n",
    "For $x\\in\\mathbb{R}$, it holds\n",
    "\\begin{align}\n",
    "\\widetilde{H}_1\\left(x^2\\right) &:= \\sum_{k=0}^\\infty \\frac{x^{2k+1}}{(2k+1)!} \\tilde{r}_k = \\sinh\\left(3x\\right)I_0^3\\left(2x\\right),\\\\\n",
    "\\widetilde{H}_2\\left(x^2\\right) &:= \\sum_{k=0}^\\infty \\frac{x^{2k+1}}{(2k+1)!} \\tilde{t}_k \n",
    "= 2\\sinh\\left(3x\\right)\\sum_{n=1}^\\infty I_{2n}^3\\left(2x\\right),\\\\\n",
    "\\widetilde{H}_3\\left(x^2 \\right) &:=\\sum_{k=0}^{\\infty} \\frac{x^{2k+1}}{(2k+1)!}\\tilde{s}_k = 2\\cosh(3x)\\sum_{a=0}^\\infty I_{2a+1}^3(2x),\\\\\n",
    "\\end{align}\n",
    "where\n",
    "\\begin{align}\n",
    "\\tilde{r}_k &= \\sum_{k_1=0}^k \\sum_{k_2=0}^{k-k_1}\\sum_{k_4=0}^{k-k_1-k_2} \\frac{3^{2k_1+1}(2k+1)!}{(k_2!)^2(k_4!)^2((k-k_1-k_2-k_4)!)^2(2k_1+1)!},\\\\\n",
    "\\tilde{t}_k &= 2\\sum_{k_1=0}^{k} \\sum_{k_2=0}^{k-k_1}\\sum_{k_4=0}^{k-k_1-k_2} \\sum_{n=0}^{k_2-1} \\frac{3^{2k_1+1}(2k+1)!}{(2k_1+1)!n!(2k_2-n)!(k_4-k_2+n)!(k_4+k_2-n)!(k-k_1-2k_2-k_4+n)!(k-k_1-k_4-n)!},\\\\\n",
    "\\tilde{s}_k &= 2\\sum_{k_1=0}^k \\sum_{k_2=0}^{k-k_1}\\sum_{k_4=0}^{k-k_1-k_2-1} \\sum_{n=0}^{k_2} \\frac{3^{2k_1}(2k+1)!}{(2k_1)!n!(2k_2+1-n)!(k_4-k_2+n)!(k_4+1+k_2-n)!(k-k_1-2k_2-k_4-1+n)!(k-k_1-k_4-n)!}.\n",
    "\\end{align}"
   ]
  },
  {
   "cell_type": "code",
   "execution_count": 14,
   "id": "9cc0185c",
   "metadata": {
    "scrolled": true
   },
   "outputs": [
    {
     "name": "stdout",
     "output_type": "stream",
     "text": [
      "x = -0.06112320806520444\n",
      "Left-hand side:  -0.1864754153487279\n",
      "Right-hand side:  -0.18647541563395315\n",
      "Absolute Error:  2.8522523232155095e-10\n"
     ]
    }
   ],
   "source": [
    "def lhs(x):\n",
    "    eps = 10**(-5)\n",
    "    boo = True\n",
    "    result = 0\n",
    "    k = 0\n",
    "    while boo:\n",
    "        summand = 0\n",
    "        for k1 in range(k+1):\n",
    "            for k2 in range(k-k1+1):\n",
    "                for k4 in range(k-k1-k2+1):\n",
    "                    summand += x**(2*k+1)*3**(2*k1+1)/factorial(k2)**2/factorial(k4)**2/factorial(k-k1-k2-k4)**2\\\n",
    "                    /factorial(2*k1+1)\n",
    "        if abs(summand) <= eps:\n",
    "            boo = False\n",
    "        result += summand\n",
    "        k += 1\n",
    "    return result\n",
    "\n",
    "def rhs(x):\n",
    "    return np.sinh(3*x)*sc.iv(0,2*x)**3\n",
    "\n",
    "check(lhs,rhs,x)"
   ]
  },
  {
   "cell_type": "markdown",
   "id": "4bc515ba",
   "metadata": {},
   "source": [
    "It holds \n",
    "\\begin{align}\n",
    "& \\lim_{b\\to\\infty}\\mathbb{E}\\left(\\cos^j(X_b) \\sin^k(X_b) \\cos^l(\\beta X_b) \\sin^m(\\beta X_b)\\right) = \\begin{cases}\n",
    " \\displaystyle\n",
    " \\frac{ j! k! l! m!}{(j+k)/2)!(j/2)!(k/2)!((l+m)/2)!(l/2)!(m/2)!2^{j+k+l+m}}, & j,k,l,m  \\quad {\\rm even}, \\\\\n",
    " 0, & \\mathrm{otherwise}.\n",
    " \\end{cases}\n",
    "\\end{align}"
   ]
  },
  {
   "cell_type": "code",
   "execution_count": 95,
   "id": "7eb0170b",
   "metadata": {},
   "outputs": [
    {
     "name": "stdout",
     "output_type": "stream",
     "text": [
      "Even case:\n",
      "j = 6, k = 8, l = 6, m = 0\n",
      "Left-hand side:   0.0007489939430360611\n",
      "Right-hand side:  0.000762939453125\n",
      "Delta:            1.3945510088938877e-05\n",
      "------------\n",
      "j = 1, k = 3, l = 3, m = 0\n",
      "Left-hand side:   0.00090777752733185\n",
      "Right-hand side:  0\n",
      "Delta:            0.00090777752733185\n"
     ]
    }
   ],
   "source": [
    "def lhs(beta,j,k,l,m):\n",
    "    eps = 10**(-10)\n",
    "    N = 10**6\n",
    "    b = 1\n",
    "    X_b = np.random.rand(N)*b\n",
    "    result = np.mean(np.cos(X_b)**j*np.sin(X_b)**k*np.cos(beta*X_b)**l*np.sin(beta*X_b)**m)\n",
    "    boo = True\n",
    "    while boo:\n",
    "        b += 1\n",
    "        X_b = np.random.rand(N)*b\n",
    "        result_temp = np.mean(np.cos(X_b)**j*np.sin(X_b)**k*np.cos(beta*X_b)**l*np.sin(beta*X_b)**m)\n",
    "        if abs(result-result_temp)<eps or b > 100:\n",
    "            boo = False\n",
    "        result = result_temp\n",
    "    return result\n",
    "\n",
    "def rhs(j,k,l,m):\n",
    "    if np.mod(j,2)==0 and np.mod(k,2)==0 and np.mod(l,2)==0 and np.mod(m,2)==0:\n",
    "        return factorial(j)*factorial(k)*factorial(l)*factorial(m)/factorial(int((j+k)/2))/factorial(int(j/2))\\\n",
    "    /factorial(int(k/2))/factorial(int((l+m)/2))/factorial(int(l/2))/factorial(int(m/2))/2**(j+k+l+m)\n",
    "    else:\n",
    "        return 0\n",
    "    \n",
    "print(\"Even case:\")\n",
    "j = 2*np.random.randint(5)\n",
    "k = 2*np.random.randint(5)\n",
    "l = 2*np.random.randint(5)\n",
    "m = 2*np.random.randint(5)\n",
    "print(\"j = \"+str(j)+\", k = \"+str(k)+\", l = \"+str(l)+\", m = \"+str(m))\n",
    "res1 = lhs(phi,j,k,l,m)\n",
    "res2 = rhs(j,k,l,m)\n",
    "print(\"Left-hand side:  \",res1)\n",
    "print(\"Right-hand side: \",res2)\n",
    "print(\"Delta:           \",abs(res1-res2))\n",
    "\n",
    "print(\"------------\")\n",
    "\n",
    "j = np.random.randint(5)\n",
    "k = np.random.randint(5)\n",
    "l = np.random.randint(5)\n",
    "m = np.random.randint(5)\n",
    "print(\"j = \"+str(j)+\", k = \"+str(k)+\", l = \"+str(l)+\", m = \"+str(m))\n",
    "res1 = lhs(phi,j,k,l,m)\n",
    "res2 = rhs(j,k,l,m)\n",
    "print(\"Left-hand side:  \",res1)\n",
    "print(\"Right-hand side: \",res2)\n",
    "print(\"Delta:           \",abs(res1-res2))"
   ]
  },
  {
   "cell_type": "code",
   "execution_count": null,
   "id": "a81a143a",
   "metadata": {},
   "outputs": [],
   "source": []
  }
 ],
 "metadata": {
  "kernelspec": {
   "display_name": "Python 3 (ipykernel)",
   "language": "python",
   "name": "python3"
  },
  "language_info": {
   "codemirror_mode": {
    "name": "ipython",
    "version": 3
   },
   "file_extension": ".py",
   "mimetype": "text/x-python",
   "name": "python",
   "nbconvert_exporter": "python",
   "pygments_lexer": "ipython3",
   "version": "3.9.12"
  }
 },
 "nbformat": 4,
 "nbformat_minor": 5
}
