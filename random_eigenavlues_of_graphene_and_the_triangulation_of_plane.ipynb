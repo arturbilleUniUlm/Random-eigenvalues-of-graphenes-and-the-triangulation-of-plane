{
 "cells": [
  {
   "cell_type": "markdown",
   "id": "71494d38-5822-48dc-a1eb-52d23e008798",
   "metadata": {
    "tags": []
   },
   "source": [
    "### Random eigenvalues of graphene and the triangulation of plane\n",
    "In this notebook we verify some of the results presented in our article $\\textit{Random eigenvalues of graphene and the triangulation of plane}$.\n",
    "The reader finds important formulas derived in the mentioned paper followed by their implementation and verification.\n",
    "Notions are the same as in the article.\n",
    "\n",
    "Convergence of infinite expressions, like sums or integrals, is proved in the paper. Here, we their values are computed up to the fifth digit. \n",
    "\n",
    "Information about the article:\n",
    "\n",
    "##### arXiv:\n",
    "\n",
    "##### Authors: \n",
    "- Artur Bille, Ulm University, Germany, artur.bille@uni-ulm.de\n",
    "- Victor Buchstaber, Steklov Mathematical Institute RAN & HSE University, International Laboratory of Algebraic Topology and Its Application, Russia, buchstab@mi-ras.ru\n",
    "- Simon Coste, LPSM - Universite Paris-Cite, France, simon.coste@u-paris.fr\n",
    "- Satoshi Kuriki, The Institute of Statistical Mathematics, Japan, kuriki@ism.ac.jp\n",
    "- Evgeny Spodarev, Ulm University, Germany, evgeny.spodarev@uni-ulm.de"
   ]
  },
  {
   "cell_type": "markdown",
   "id": "ad64fbec-3574-4a53-bdac-bafea12072ba",
   "metadata": {},
   "source": [
    "Needed packages:\n",
    "- Numpy\n",
    "- SciPy.Special\n",
    "- Math\n",
    "\n",
    "Own auxiliary functions:\n",
    "- factorial(), where we defined $k!:=\\infty$, if $-k\\in\\mathbb{N}$.\n",
    "\n",
    "If not stated otherwise, $x$ is a randomly chosen real number in $[-2.5;2.5]$ due to performance reasons. "
   ]
  },
  {
   "cell_type": "code",
   "execution_count": 1,
   "id": "fae42667-be57-44f6-8ad7-d5b25c61a6c9",
   "metadata": {
    "jupyter": {
     "source_hidden": true
    },
    "tags": []
   },
   "outputs": [],
   "source": [
    "import numpy as np\n",
    "import scipy.special as sc\n",
    "import math\n",
    "\n",
    "def factorial(k):\n",
    "    if k<0:\n",
    "        return np.inf\n",
    "    else: \n",
    "        return math.factorial(k)\n",
    "def choose_x():\n",
    "    return np.random.rand(1)[0]*5-2.5"
   ]
  },
  {
   "cell_type": "markdown",
   "id": "5f37db4f-6f96-4113-8cb8-67f0be554926",
   "metadata": {
    "tags": []
   },
   "source": [
    "#### Proof of Theorem 4\n",
    "##### Even Case:\n",
    "For $x\\in\\mathbb{R}$, it holds\n",
    "\\begin{align}\n",
    "H_1(x^2) &= \\sum_{k=0}^\\infty \\frac{x^{2k}}{(2k)!}r_k = \\cosh(3x)I_0^3(2x),\\\\\n",
    "H_2(x^2) &= \\sum_{k=0}^\\infty \\frac{x^{2k}}{(2k)!}s_k = 2\\cosh(3x)\\sum_{a=1}^\\infty I_{2a}^3(2x),\\\\\n",
    "H_3(x^2) &= \\sum_{k=0}^\\infty \\frac{x^{2k}}{(2k)!}t_k = 2\\sinh(3x)\\sum_{a=0}^\\infty I_{2a+1}^3(2x),\\\\\n",
    "\\end{align}\n",
    "where\n",
    "\\begin{align}\n",
    "r_k &= \\sum_{k_1=0}^k \\sum_{k_2=0}^{k-k_1}\\sum_{k_4=0}^{k-k_1-k_2} \\frac{3^{2k_1}(2k)!}{(k_2!)^2(k_4!)^2((k-k_1-k_2-k_4)!)^2(2k_1)!},\\\\\n",
    "s_k &= 2\\sum_{k_1=0}^k \\sum_{k_2=0}^{k-k_1}\\sum_{k_4=0}^{k-k_1-k_2} \\sum_{n=0}^{k_2-1} \\frac{3^{2k_1}(2k)!}{(2k_1)!n!(2k_2-n)!(k_4-k_2+n)!(k_4+k_2-n)!(k-k_1-2k_2-k_4+n)!(k-k_1-k_4-n)!},\\\\\n",
    "t_k &= 2\\sum_{k_1=0}^{k-1} \\sum_{k_2=0}^{k-k_1-1}\\sum_{k_4=0}^{k-k_1-k_2-1} \\sum_{n=0}^{k_2} \\frac{3^{2k_1+1}(2k)!}{(2k_1+1)!n!(2k_2-n+1)!(k_4-k_2+n)!(k_4+1+k_2-n)!(k-k_1-2k_2-k_4-2+n)!(k-k_1-k_4-1-n)!}.\n",
    "\\end{align}"
   ]
  },
  {
   "cell_type": "code",
   "execution_count": 2,
   "id": "a64fbc2c-d3a9-4ae0-a0c7-64e1272221d9",
   "metadata": {
    "jupyter": {
     "source_hidden": true
    },
    "tags": []
   },
   "outputs": [
    {
     "name": "stdout",
     "output_type": "stream",
     "text": [
      "x = 2.1494868644432676\n",
      "H3 right hand-side: H3(x) = 1394624.7044886802\n",
      "H3 left hand-side:  H3(x) = 1394624.7044879831\n",
      "Absolute error: 6.970949470996857e-07\n"
     ]
    }
   ],
   "source": [
    "def H1_short(x):\n",
    "    return np.cosh(3*x)*sc.iv(0,2*x)**3\n",
    "\n",
    "def H1_long(x):\n",
    "    eps = 10**(-5)\n",
    "    result = 0\n",
    "    boo = True\n",
    "    k = 0\n",
    "    while boo:\n",
    "        summand = 0\n",
    "        for k1 in range(k+1):\n",
    "            for k2 in range(k-k1+1):\n",
    "                for k4 in range(k-k1-k2+1):\n",
    "                    summand += 3**(2*k1)*x**(2*k)/factorial(k2)**2/factorial(k4)**2/factorial(k-k1-k2-k4)**2/factorial(2*k1)\n",
    "        if summand < eps:\n",
    "            boo = False\n",
    "        k +=1\n",
    "        result += summand\n",
    "    return result\n",
    "\n",
    "def H2_short(x):\n",
    "    eps = 10**(-5)\n",
    "    result = 0\n",
    "    boo = True\n",
    "    a = 1\n",
    "    while boo:\n",
    "        summand = sc.iv(2*a,2*x)**3\n",
    "        if summand < eps:\n",
    "            boo = False\n",
    "        result += summand\n",
    "        a += 1\n",
    "    return result*2*np.cosh(3*x)\n",
    "\n",
    "def H2_long(x):\n",
    "    eps = 10**(-5)\n",
    "    result = 0\n",
    "    boo = True\n",
    "    k = 0\n",
    "    while boo:\n",
    "        summand = 0\n",
    "        for k1 in range(k+1):\n",
    "            for k2 in range(k-k1+1):\n",
    "                for k4 in range(k-k1-k2+1):\n",
    "                    for n in range(k2):\n",
    "                        summand += 2*3**(2*k1)*x**(2*k)/factorial(2*k1)/factorial(n)/factorial(2*k2-n)/factorial(k4-k2+n)\\\n",
    "                        /factorial(k4+k2-n)/factorial(k-k1-2*k2-k4+n)/factorial(k-k1-k4-n)\n",
    "        if summand < eps and summand > 0:\n",
    "            boo = False\n",
    "        #print(summand)\n",
    "        result += summand\n",
    "        k += 1\n",
    "    return result\n",
    "\n",
    "def H3_short(x):\n",
    "    eps = 10**(-5)\n",
    "    result = 0\n",
    "    boo = True\n",
    "    a = 0\n",
    "    while boo:\n",
    "        summand = sc.iv(2*a+1,2*x)**3\n",
    "        if abs(summand) < eps and abs(summand) > 0:\n",
    "            boo = False\n",
    "        result += summand\n",
    "        a += 1\n",
    "    return result*2*np.sinh(3*x)\n",
    "\n",
    "def H3_long(x):\n",
    "    eps = 10**(-5)\n",
    "    result = 0\n",
    "    boo = True\n",
    "    k = 0\n",
    "    while boo:\n",
    "        summand = 0\n",
    "        for k1 in range(k):\n",
    "            for k2 in range(k-k1):\n",
    "                for k4 in range(k-k1-k2):\n",
    "                    for n in range(k2+1):\n",
    "                        summand += 2*3**(2*k1+1)*x**(2*k)/factorial(2*k1+1)/factorial(n)/factorial(2*k2-n+1)\\\n",
    "                        /factorial(k4-k2+n)/factorial(k4+1+k2-n)/factorial(k-k1-2*k2-k4-2+n)/factorial(k-k1-k4-1-n)\n",
    "        if summand < eps and summand > 0:\n",
    "            boo = False\n",
    "        result += summand\n",
    "        k += 1\n",
    "    return result\n",
    "\n",
    "x = choose_x()\n",
    "print(\"x = \"+str(x))\n",
    "result1 = H3_short(x)\n",
    "result2 = H3_long(x)\n",
    "print(\"H3 right hand-side: H3(x) = \"+str(result1))\n",
    "print(\"H3 left hand-side:  H3(x) = \"+str(result2))\n",
    "print(\"Absolute error: \"+str(abs(result1-result2)))"
   ]
  }
 ],
 "metadata": {
  "kernelspec": {
   "display_name": "Python 3 (ipykernel)",
   "language": "python",
   "name": "python3"
  },
  "language_info": {
   "codemirror_mode": {
    "name": "ipython",
    "version": 3
   },
   "file_extension": ".py",
   "mimetype": "text/x-python",
   "name": "python",
   "nbconvert_exporter": "python",
   "pygments_lexer": "ipython3",
   "version": "3.9.12"
  }
 },
 "nbformat": 4,
 "nbformat_minor": 5
}
