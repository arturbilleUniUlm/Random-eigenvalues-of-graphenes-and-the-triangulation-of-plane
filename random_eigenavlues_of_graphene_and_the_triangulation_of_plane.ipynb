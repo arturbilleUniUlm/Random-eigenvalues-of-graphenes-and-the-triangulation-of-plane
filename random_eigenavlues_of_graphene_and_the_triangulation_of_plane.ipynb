version https://git-lfs.github.com/spec/v1
oid sha256:88df259d0bc32038b8d95856936e1a9394b33f515751bb4db4aa29b6dd651d02
size 127643491
